{
 "cells": [
  {
   "cell_type": "code",
   "execution_count": 2,
   "metadata": {},
   "outputs": [],
   "source": [
    "import random"
   ]
  },
  {
   "cell_type": "code",
   "execution_count": 4,
   "metadata": {},
   "outputs": [],
   "source": [
    "nba_teams = [\"Boston Celtics\",\n",
    "\"New Jersey Nets\",\n",
    "\"New York Knicks\",\n",
    "\"Philadelphia 76ers\",\n",
    "\"Toronto Raptors\",\n",
    "\"Chicago Bulls\",\n",
    "\"Cleveland Cavaliers\",\n",
    "\"Detroit Pistons\",\n",
    "\"Indiana Pacers\",\n",
    "\"Milwaukee Bucks\",\n",
    "\"Atlanta Hawks\",\n",
    "\"Charlotte Bobcats\",\n",
    "\"Miami Heat\",\n",
    "\"Orlando Magic\",\n",
    "\"Washington Wizards\",\n",
    "\"Denver Nuggets\",\n",
    "\"Minnesota Timberwolves\",\n",
    "\"Oklahoma City Thunder\",\n",
    "\"Portland Trail Blazers\",\n",
    "\"Utah Jazz\",\n",
    "\"Golden State Warriors\",\n",
    "\"Los Angeles Clippers\",\n",
    "\"Los Angeles Lakers\",\n",
    "\"Phoenix Suns\",\n",
    "\"Sacramento Kings\",\n",
    "\"Dallas Mavericks\",\n",
    "\"Houston Rockets\",\n",
    "\"Memphis Grizzlies\",\n",
    "\"New Orleans Hornets\",\n",
    "\"San Antonio Spurs\"]"
   ]
  },
  {
   "cell_type": "code",
   "execution_count": 7,
   "metadata": {},
   "outputs": [
    {
     "name": "stdout",
     "output_type": "stream",
     "text": [
      "Brandon's team is the Golden State Warriors and Ryan's team is the Sacramento Kings\n"
     ]
    }
   ],
   "source": [
    "B = random.choice(nba_teams)\n",
    "R = random.choice(nba_teams)\n",
    "print(f\"Brandon's team is the {B} and Ryan's team is the {R}\")"
   ]
  },
  {
   "cell_type": "code",
   "execution_count": 9,
   "metadata": {},
   "outputs": [],
   "source": [
    "eras = ['70s','80s','90s','2000s','2010s']"
   ]
  },
  {
   "cell_type": "code",
   "execution_count": 13,
   "metadata": {},
   "outputs": [
    {
     "name": "stdout",
     "output_type": "stream",
     "text": [
      "Brandon's team is the 2010s and Ryan's team is the 2000s\n"
     ]
    }
   ],
   "source": [
    "Be = random.choice(eras)\n",
    "Re = random.choice(eras)\n",
    "print(f\"Brandon's team is the {Be} and Ryan's team is the {Re}\")"
   ]
  }
 ],
 "metadata": {
  "kernelspec": {
   "display_name": "Python 3",
   "language": "python",
   "name": "python3"
  },
  "language_info": {
   "codemirror_mode": {
    "name": "ipython",
    "version": 3
   },
   "file_extension": ".py",
   "mimetype": "text/x-python",
   "name": "python",
   "nbconvert_exporter": "python",
   "pygments_lexer": "ipython3",
   "version": "3.7.1"
  }
 },
 "nbformat": 4,
 "nbformat_minor": 2
}
